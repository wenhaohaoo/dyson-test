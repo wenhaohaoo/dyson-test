{
 "cells": [
  {
   "cell_type": "markdown",
   "metadata": {},
   "source": [
    "# Import Libraries"
   ]
  },
  {
   "cell_type": "code",
   "execution_count": 1,
   "metadata": {},
   "outputs": [],
   "source": [
    "import json\n",
    "import requests\n",
    "import warnings\n",
    "warnings.filterwarnings('ignore')\n",
    "\n",
    "import numpy as np\n",
    "import pandas as pd\n",
    "import matplotlib.pyplot as plt\n",
    "import matplotlib.image as mpimg\n",
    "%matplotlib inline\n",
    "import seaborn as sns\n",
    "from sklearn.linear_model import LinearRegression\n",
    "from sklearn.model_selection import train_test_split\n",
    "from sklearn.metrics import classification_report\n",
    "from sklearn.metrics import confusion_matrix\n",
    "from sklearn.metrics import r2_score\n",
    "import mlflow\n",
    "import mlflow.sklearn"
   ]
  },
  {
   "cell_type": "markdown",
   "metadata": {},
   "source": [
    "# Loading Dataset"
   ]
  },
  {
   "cell_type": "code",
   "execution_count": 2,
   "metadata": {},
   "outputs": [],
   "source": [
    "airbnb = pd.read_csv('data/AB_NYC_2019.csv')"
   ]
  },
  {
   "cell_type": "code",
   "execution_count": 3,
   "metadata": {},
   "outputs": [
    {
     "data": {
      "text/plain": [
       "(48895, 16)"
      ]
     },
     "execution_count": 3,
     "metadata": {},
     "output_type": "execute_result"
    }
   ],
   "source": [
    "airbnb.shape"
   ]
  },
  {
   "cell_type": "markdown",
   "metadata": {},
   "source": [
    "# EDA and Data Cleaning"
   ]
  },
  {
   "cell_type": "code",
   "execution_count": 4,
   "metadata": {},
   "outputs": [
    {
     "data": {
      "text/plain": [
       "0"
      ]
     },
     "execution_count": 4,
     "metadata": {},
     "output_type": "execute_result"
    }
   ],
   "source": [
    "airbnb.duplicated().sum()"
   ]
  },
  {
   "cell_type": "code",
   "execution_count": 5,
   "metadata": {},
   "outputs": [],
   "source": [
    "airbnb.drop_duplicates(inplace=True)"
   ]
  },
  {
   "cell_type": "code",
   "execution_count": 6,
   "metadata": {},
   "outputs": [
    {
     "data": {
      "text/plain": [
       "id                                    0\n",
       "name                                 16\n",
       "host_id                               0\n",
       "host_name                            21\n",
       "neighbourhood_group                   0\n",
       "neighbourhood                         0\n",
       "latitude                              0\n",
       "longitude                             0\n",
       "room_type                             0\n",
       "price                                 0\n",
       "minimum_nights                        0\n",
       "number_of_reviews                     0\n",
       "last_review                       10052\n",
       "reviews_per_month                 10052\n",
       "calculated_host_listings_count        0\n",
       "availability_365                      0\n",
       "dtype: int64"
      ]
     },
     "execution_count": 6,
     "metadata": {},
     "output_type": "execute_result"
    }
   ],
   "source": [
    "airbnb.isnull().sum()"
   ]
  },
  {
   "cell_type": "code",
   "execution_count": 7,
   "metadata": {},
   "outputs": [],
   "source": [
    "airbnb.drop(['name','id','host_name','last_review'], axis=1, inplace=True)"
   ]
  },
  {
   "cell_type": "code",
   "execution_count": 8,
   "metadata": {},
   "outputs": [
    {
     "data": {
      "text/html": [
       "<div>\n",
       "<style scoped>\n",
       "    .dataframe tbody tr th:only-of-type {\n",
       "        vertical-align: middle;\n",
       "    }\n",
       "\n",
       "    .dataframe tbody tr th {\n",
       "        vertical-align: top;\n",
       "    }\n",
       "\n",
       "    .dataframe thead th {\n",
       "        text-align: right;\n",
       "    }\n",
       "</style>\n",
       "<table border=\"1\" class=\"dataframe\">\n",
       "  <thead>\n",
       "    <tr style=\"text-align: right;\">\n",
       "      <th></th>\n",
       "      <th>host_id</th>\n",
       "      <th>neighbourhood_group</th>\n",
       "      <th>neighbourhood</th>\n",
       "      <th>latitude</th>\n",
       "      <th>longitude</th>\n",
       "      <th>room_type</th>\n",
       "      <th>price</th>\n",
       "      <th>minimum_nights</th>\n",
       "      <th>number_of_reviews</th>\n",
       "      <th>reviews_per_month</th>\n",
       "      <th>calculated_host_listings_count</th>\n",
       "      <th>availability_365</th>\n",
       "    </tr>\n",
       "  </thead>\n",
       "  <tbody>\n",
       "    <tr>\n",
       "      <th>0</th>\n",
       "      <td>2787</td>\n",
       "      <td>Brooklyn</td>\n",
       "      <td>Kensington</td>\n",
       "      <td>40.64749</td>\n",
       "      <td>-73.97237</td>\n",
       "      <td>Private room</td>\n",
       "      <td>149</td>\n",
       "      <td>1</td>\n",
       "      <td>9</td>\n",
       "      <td>0.21</td>\n",
       "      <td>6</td>\n",
       "      <td>365</td>\n",
       "    </tr>\n",
       "    <tr>\n",
       "      <th>1</th>\n",
       "      <td>2845</td>\n",
       "      <td>Manhattan</td>\n",
       "      <td>Midtown</td>\n",
       "      <td>40.75362</td>\n",
       "      <td>-73.98377</td>\n",
       "      <td>Entire home/apt</td>\n",
       "      <td>225</td>\n",
       "      <td>1</td>\n",
       "      <td>45</td>\n",
       "      <td>0.38</td>\n",
       "      <td>2</td>\n",
       "      <td>355</td>\n",
       "    </tr>\n",
       "    <tr>\n",
       "      <th>2</th>\n",
       "      <td>4632</td>\n",
       "      <td>Manhattan</td>\n",
       "      <td>Harlem</td>\n",
       "      <td>40.80902</td>\n",
       "      <td>-73.94190</td>\n",
       "      <td>Private room</td>\n",
       "      <td>150</td>\n",
       "      <td>3</td>\n",
       "      <td>0</td>\n",
       "      <td>NaN</td>\n",
       "      <td>1</td>\n",
       "      <td>365</td>\n",
       "    </tr>\n",
       "  </tbody>\n",
       "</table>\n",
       "</div>"
      ],
      "text/plain": [
       "   host_id neighbourhood_group neighbourhood  latitude  longitude  \\\n",
       "0     2787            Brooklyn    Kensington  40.64749  -73.97237   \n",
       "1     2845           Manhattan       Midtown  40.75362  -73.98377   \n",
       "2     4632           Manhattan        Harlem  40.80902  -73.94190   \n",
       "\n",
       "         room_type  price  minimum_nights  number_of_reviews  \\\n",
       "0     Private room    149               1                  9   \n",
       "1  Entire home/apt    225               1                 45   \n",
       "2     Private room    150               3                  0   \n",
       "\n",
       "   reviews_per_month  calculated_host_listings_count  availability_365  \n",
       "0               0.21                               6               365  \n",
       "1               0.38                               2               355  \n",
       "2                NaN                               1               365  "
      ]
     },
     "execution_count": 8,
     "metadata": {},
     "output_type": "execute_result"
    }
   ],
   "source": [
    "airbnb.head(3)"
   ]
  },
  {
   "cell_type": "code",
   "execution_count": 9,
   "metadata": {},
   "outputs": [
    {
     "data": {
      "text/plain": [
       "0"
      ]
     },
     "execution_count": 9,
     "metadata": {},
     "output_type": "execute_result"
    }
   ],
   "source": [
    "airbnb.fillna({'reviews_per_month':0}, inplace=True)\n",
    "# examing changes\n",
    "airbnb.reviews_per_month.isnull().sum()"
   ]
  },
  {
   "cell_type": "code",
   "execution_count": 10,
   "metadata": {},
   "outputs": [
    {
     "name": "stdout",
     "output_type": "stream",
     "text": [
      "<class 'pandas.core.frame.DataFrame'>\n",
      "Int64Index: 48895 entries, 0 to 48894\n",
      "Data columns (total 12 columns):\n",
      " #   Column                          Non-Null Count  Dtype  \n",
      "---  ------                          --------------  -----  \n",
      " 0   host_id                         48895 non-null  int64  \n",
      " 1   neighbourhood_group             48895 non-null  object \n",
      " 2   neighbourhood                   48895 non-null  object \n",
      " 3   latitude                        48895 non-null  float64\n",
      " 4   longitude                       48895 non-null  float64\n",
      " 5   room_type                       48895 non-null  object \n",
      " 6   price                           48895 non-null  int64  \n",
      " 7   minimum_nights                  48895 non-null  int64  \n",
      " 8   number_of_reviews               48895 non-null  int64  \n",
      " 9   reviews_per_month               48895 non-null  float64\n",
      " 10  calculated_host_listings_count  48895 non-null  int64  \n",
      " 11  availability_365                48895 non-null  int64  \n",
      "dtypes: float64(3), int64(6), object(3)\n",
      "memory usage: 4.8+ MB\n"
     ]
    }
   ],
   "source": [
    "airbnb.isnull().sum()\n",
    "airbnb.dropna(how='any',inplace=True)\n",
    "airbnb.info() "
   ]
  },
  {
   "cell_type": "code",
   "execution_count": 11,
   "metadata": {},
   "outputs": [
    {
     "data": {
      "text/html": [
       "<div>\n",
       "<style scoped>\n",
       "    .dataframe tbody tr th:only-of-type {\n",
       "        vertical-align: middle;\n",
       "    }\n",
       "\n",
       "    .dataframe tbody tr th {\n",
       "        vertical-align: top;\n",
       "    }\n",
       "\n",
       "    .dataframe thead th {\n",
       "        text-align: right;\n",
       "    }\n",
       "</style>\n",
       "<table border=\"1\" class=\"dataframe\">\n",
       "  <thead>\n",
       "    <tr style=\"text-align: right;\">\n",
       "      <th></th>\n",
       "      <th>host_id</th>\n",
       "      <th>latitude</th>\n",
       "      <th>longitude</th>\n",
       "      <th>price</th>\n",
       "      <th>minimum_nights</th>\n",
       "      <th>number_of_reviews</th>\n",
       "      <th>reviews_per_month</th>\n",
       "      <th>calculated_host_listings_count</th>\n",
       "      <th>availability_365</th>\n",
       "    </tr>\n",
       "  </thead>\n",
       "  <tbody>\n",
       "    <tr>\n",
       "      <th>count</th>\n",
       "      <td>4.889500e+04</td>\n",
       "      <td>48895.000000</td>\n",
       "      <td>48895.000000</td>\n",
       "      <td>48895.000000</td>\n",
       "      <td>48895.000000</td>\n",
       "      <td>48895.000000</td>\n",
       "      <td>48895.000000</td>\n",
       "      <td>48895.000000</td>\n",
       "      <td>48895.000000</td>\n",
       "    </tr>\n",
       "    <tr>\n",
       "      <th>mean</th>\n",
       "      <td>6.762001e+07</td>\n",
       "      <td>40.728949</td>\n",
       "      <td>-73.952170</td>\n",
       "      <td>152.720687</td>\n",
       "      <td>7.029962</td>\n",
       "      <td>23.274466</td>\n",
       "      <td>1.090910</td>\n",
       "      <td>7.143982</td>\n",
       "      <td>112.781327</td>\n",
       "    </tr>\n",
       "    <tr>\n",
       "      <th>std</th>\n",
       "      <td>7.861097e+07</td>\n",
       "      <td>0.054530</td>\n",
       "      <td>0.046157</td>\n",
       "      <td>240.154170</td>\n",
       "      <td>20.510550</td>\n",
       "      <td>44.550582</td>\n",
       "      <td>1.597283</td>\n",
       "      <td>32.952519</td>\n",
       "      <td>131.622289</td>\n",
       "    </tr>\n",
       "    <tr>\n",
       "      <th>min</th>\n",
       "      <td>2.438000e+03</td>\n",
       "      <td>40.499790</td>\n",
       "      <td>-74.244420</td>\n",
       "      <td>0.000000</td>\n",
       "      <td>1.000000</td>\n",
       "      <td>0.000000</td>\n",
       "      <td>0.000000</td>\n",
       "      <td>1.000000</td>\n",
       "      <td>0.000000</td>\n",
       "    </tr>\n",
       "    <tr>\n",
       "      <th>25%</th>\n",
       "      <td>7.822033e+06</td>\n",
       "      <td>40.690100</td>\n",
       "      <td>-73.983070</td>\n",
       "      <td>69.000000</td>\n",
       "      <td>1.000000</td>\n",
       "      <td>1.000000</td>\n",
       "      <td>0.040000</td>\n",
       "      <td>1.000000</td>\n",
       "      <td>0.000000</td>\n",
       "    </tr>\n",
       "    <tr>\n",
       "      <th>50%</th>\n",
       "      <td>3.079382e+07</td>\n",
       "      <td>40.723070</td>\n",
       "      <td>-73.955680</td>\n",
       "      <td>106.000000</td>\n",
       "      <td>3.000000</td>\n",
       "      <td>5.000000</td>\n",
       "      <td>0.370000</td>\n",
       "      <td>1.000000</td>\n",
       "      <td>45.000000</td>\n",
       "    </tr>\n",
       "    <tr>\n",
       "      <th>75%</th>\n",
       "      <td>1.074344e+08</td>\n",
       "      <td>40.763115</td>\n",
       "      <td>-73.936275</td>\n",
       "      <td>175.000000</td>\n",
       "      <td>5.000000</td>\n",
       "      <td>24.000000</td>\n",
       "      <td>1.580000</td>\n",
       "      <td>2.000000</td>\n",
       "      <td>227.000000</td>\n",
       "    </tr>\n",
       "    <tr>\n",
       "      <th>max</th>\n",
       "      <td>2.743213e+08</td>\n",
       "      <td>40.913060</td>\n",
       "      <td>-73.712990</td>\n",
       "      <td>10000.000000</td>\n",
       "      <td>1250.000000</td>\n",
       "      <td>629.000000</td>\n",
       "      <td>58.500000</td>\n",
       "      <td>327.000000</td>\n",
       "      <td>365.000000</td>\n",
       "    </tr>\n",
       "  </tbody>\n",
       "</table>\n",
       "</div>"
      ],
      "text/plain": [
       "            host_id      latitude     longitude         price  minimum_nights  \\\n",
       "count  4.889500e+04  48895.000000  48895.000000  48895.000000    48895.000000   \n",
       "mean   6.762001e+07     40.728949    -73.952170    152.720687        7.029962   \n",
       "std    7.861097e+07      0.054530      0.046157    240.154170       20.510550   \n",
       "min    2.438000e+03     40.499790    -74.244420      0.000000        1.000000   \n",
       "25%    7.822033e+06     40.690100    -73.983070     69.000000        1.000000   \n",
       "50%    3.079382e+07     40.723070    -73.955680    106.000000        3.000000   \n",
       "75%    1.074344e+08     40.763115    -73.936275    175.000000        5.000000   \n",
       "max    2.743213e+08     40.913060    -73.712990  10000.000000     1250.000000   \n",
       "\n",
       "       number_of_reviews  reviews_per_month  calculated_host_listings_count  \\\n",
       "count       48895.000000       48895.000000                    48895.000000   \n",
       "mean           23.274466           1.090910                        7.143982   \n",
       "std            44.550582           1.597283                       32.952519   \n",
       "min             0.000000           0.000000                        1.000000   \n",
       "25%             1.000000           0.040000                        1.000000   \n",
       "50%             5.000000           0.370000                        1.000000   \n",
       "75%            24.000000           1.580000                        2.000000   \n",
       "max           629.000000          58.500000                      327.000000   \n",
       "\n",
       "       availability_365  \n",
       "count      48895.000000  \n",
       "mean         112.781327  \n",
       "std          131.622289  \n",
       "min            0.000000  \n",
       "25%            0.000000  \n",
       "50%           45.000000  \n",
       "75%          227.000000  \n",
       "max          365.000000  "
      ]
     },
     "execution_count": 11,
     "metadata": {},
     "output_type": "execute_result"
    }
   ],
   "source": [
    "airbnb.describe()"
   ]
  },
  {
   "cell_type": "code",
   "execution_count": 12,
   "metadata": {},
   "outputs": [
    {
     "data": {
      "text/plain": [
       "Index(['host_id', 'neighbourhood_group', 'neighbourhood', 'latitude',\n",
       "       'longitude', 'room_type', 'price', 'minimum_nights',\n",
       "       'number_of_reviews', 'reviews_per_month',\n",
       "       'calculated_host_listings_count', 'availability_365'],\n",
       "      dtype='object')"
      ]
     },
     "execution_count": 12,
     "metadata": {},
     "output_type": "execute_result"
    }
   ],
   "source": [
    "airbnb.columns"
   ]
  },
  {
   "cell_type": "markdown",
   "metadata": {},
   "source": [
    "# Encode the input Variables"
   ]
  },
  {
   "cell_type": "code",
   "execution_count": 13,
   "metadata": {},
   "outputs": [],
   "source": [
    "\n",
    "def Encode(airbnb):\n",
    "    for column in airbnb.columns[airbnb.columns.isin(['neighbourhood_group', 'room_type'])]:\n",
    "        airbnb[column] = airbnb[column].factorize()[0]\n",
    "    return airbnb\n",
    "\n",
    "airbnb_en = Encode(airbnb.copy())"
   ]
  },
  {
   "cell_type": "markdown",
   "metadata": {},
   "source": [
    "# Defining the independent variables and dependent variables"
   ]
  },
  {
   "cell_type": "code",
   "execution_count": 14,
   "metadata": {},
   "outputs": [],
   "source": [
    "\n",
    "x = airbnb_en.iloc[:,[0,1,3,4,5]]\n",
    "y = airbnb_en['price']"
   ]
  },
  {
   "cell_type": "markdown",
   "metadata": {},
   "source": [
    "# Splitting dataset into train and test set"
   ]
  },
  {
   "cell_type": "code",
   "execution_count": 16,
   "metadata": {},
   "outputs": [
    {
     "data": {
      "text/html": [
       "<div>\n",
       "<style scoped>\n",
       "    .dataframe tbody tr th:only-of-type {\n",
       "        vertical-align: middle;\n",
       "    }\n",
       "\n",
       "    .dataframe tbody tr th {\n",
       "        vertical-align: top;\n",
       "    }\n",
       "\n",
       "    .dataframe thead th {\n",
       "        text-align: right;\n",
       "    }\n",
       "</style>\n",
       "<table border=\"1\" class=\"dataframe\">\n",
       "  <thead>\n",
       "    <tr style=\"text-align: right;\">\n",
       "      <th></th>\n",
       "      <th>host_id</th>\n",
       "      <th>neighbourhood_group</th>\n",
       "      <th>latitude</th>\n",
       "      <th>longitude</th>\n",
       "      <th>room_type</th>\n",
       "    </tr>\n",
       "  </thead>\n",
       "  <tbody>\n",
       "    <tr>\n",
       "      <th>17736</th>\n",
       "      <td>29513490</td>\n",
       "      <td>0</td>\n",
       "      <td>40.68370</td>\n",
       "      <td>-73.93325</td>\n",
       "      <td>1</td>\n",
       "    </tr>\n",
       "    <tr>\n",
       "      <th>24351</th>\n",
       "      <td>18632318</td>\n",
       "      <td>1</td>\n",
       "      <td>40.80230</td>\n",
       "      <td>-73.96688</td>\n",
       "      <td>0</td>\n",
       "    </tr>\n",
       "    <tr>\n",
       "      <th>10069</th>\n",
       "      <td>40608098</td>\n",
       "      <td>1</td>\n",
       "      <td>40.78502</td>\n",
       "      <td>-73.94763</td>\n",
       "      <td>1</td>\n",
       "    </tr>\n",
       "    <tr>\n",
       "      <th>11679</th>\n",
       "      <td>47406119</td>\n",
       "      <td>1</td>\n",
       "      <td>40.72558</td>\n",
       "      <td>-74.00195</td>\n",
       "      <td>0</td>\n",
       "    </tr>\n",
       "    <tr>\n",
       "      <th>16315</th>\n",
       "      <td>10676792</td>\n",
       "      <td>0</td>\n",
       "      <td>40.68457</td>\n",
       "      <td>-73.92620</td>\n",
       "      <td>1</td>\n",
       "    </tr>\n",
       "  </tbody>\n",
       "</table>\n",
       "</div>"
      ],
      "text/plain": [
       "        host_id  neighbourhood_group  latitude  longitude  room_type\n",
       "17736  29513490                    0  40.68370  -73.93325          1\n",
       "24351  18632318                    1  40.80230  -73.96688          0\n",
       "10069  40608098                    1  40.78502  -73.94763          1\n",
       "11679  47406119                    1  40.72558  -74.00195          0\n",
       "16315  10676792                    0  40.68457  -73.92620          1"
      ]
     },
     "execution_count": 16,
     "metadata": {},
     "output_type": "execute_result"
    }
   ],
   "source": [
    "x_train,x_test,y_train,y_test=train_test_split(x,y,test_size=.1,random_state=353)\n",
    "x_train.head()"
   ]
  },
  {
   "cell_type": "code",
   "execution_count": 17,
   "metadata": {},
   "outputs": [
    {
     "data": {
      "text/plain": [
       "17736    125\n",
       "24351    101\n",
       "10069    189\n",
       "11679    145\n",
       "16315    120\n",
       "Name: price, dtype: int64"
      ]
     },
     "execution_count": 17,
     "metadata": {},
     "output_type": "execute_result"
    }
   ],
   "source": [
    "y_train.head()"
   ]
  },
  {
   "cell_type": "code",
   "execution_count": 18,
   "metadata": {},
   "outputs": [
    {
     "data": {
      "text/plain": [
       "(44005, 5)"
      ]
     },
     "execution_count": 18,
     "metadata": {},
     "output_type": "execute_result"
    }
   ],
   "source": [
    "x_train.shape"
   ]
  },
  {
   "cell_type": "markdown",
   "metadata": {},
   "source": [
    "# Setup MLflow Tracking\n",
    "Make sure MLflow tracking service is running before running the following cell.\n",
    "If service is not up, run `docker-compose up --build -d` in the project root to get it up."
   ]
  },
  {
   "cell_type": "code",
   "execution_count": 19,
   "metadata": {},
   "outputs": [
    {
     "ename": "KeyboardInterrupt",
     "evalue": "",
     "output_type": "error",
     "traceback": [
      "\u001b[0;31m---------------------------------------------------------------------------\u001b[0m",
      "\u001b[0;31mConnectionRefusedError\u001b[0m                    Traceback (most recent call last)",
      "File \u001b[0;32m~/anaconda3/envs/dyson/lib/python3.8/site-packages/urllib3/util/connection.py:85\u001b[0m, in \u001b[0;36mcreate_connection\u001b[0;34m(address, timeout, source_address, socket_options)\u001b[0m\n\u001b[1;32m     <a href='file:///Users/wenhao.lau/anaconda3/envs/dyson/lib/python3.8/site-packages/urllib3/util/connection.py?line=83'>84</a>\u001b[0m     sock\u001b[39m.\u001b[39mbind(source_address)\n\u001b[0;32m---> <a href='file:///Users/wenhao.lau/anaconda3/envs/dyson/lib/python3.8/site-packages/urllib3/util/connection.py?line=84'>85</a>\u001b[0m sock\u001b[39m.\u001b[39;49mconnect(sa)\n\u001b[1;32m     <a href='file:///Users/wenhao.lau/anaconda3/envs/dyson/lib/python3.8/site-packages/urllib3/util/connection.py?line=85'>86</a>\u001b[0m \u001b[39mreturn\u001b[39;00m sock\n",
      "\u001b[0;31mConnectionRefusedError\u001b[0m: [Errno 61] Connection refused",
      "\nDuring handling of the above exception, another exception occurred:\n",
      "\u001b[0;31mKeyboardInterrupt\u001b[0m                         Traceback (most recent call last)",
      "\u001b[1;32m/Users/wenhao.lau/dyson-test/airbnb-predict-price.ipynb Cell 25'\u001b[0m in \u001b[0;36m<cell line: 2>\u001b[0;34m()\u001b[0m\n\u001b[1;32m      <a href='vscode-notebook-cell:/Users/wenhao.lau/dyson-test/airbnb-predict-price.ipynb#ch0000023?line=0'>1</a>\u001b[0m mlflow\u001b[39m.\u001b[39mset_tracking_uri(\u001b[39m'\u001b[39m\u001b[39mhttp://0.0.0.0:5000\u001b[39m\u001b[39m'\u001b[39m)\n\u001b[0;32m----> <a href='vscode-notebook-cell:/Users/wenhao.lau/dyson-test/airbnb-predict-price.ipynb#ch0000023?line=1'>2</a>\u001b[0m mlflow\u001b[39m.\u001b[39;49mset_experiment(\u001b[39m'\u001b[39;49m\u001b[39mairbnb-predict-price\u001b[39;49m\u001b[39m'\u001b[39;49m)\n",
      "File \u001b[0;32m~/anaconda3/envs/dyson/lib/python3.8/site-packages/mlflow/tracking/fluent.py:120\u001b[0m, in \u001b[0;36mset_experiment\u001b[0;34m(experiment_name, experiment_id)\u001b[0m\n\u001b[1;32m    <a href='file:///Users/wenhao.lau/anaconda3/envs/dyson/lib/python3.8/site-packages/mlflow/tracking/fluent.py?line=117'>118</a>\u001b[0m client \u001b[39m=\u001b[39m MlflowClient()\n\u001b[1;32m    <a href='file:///Users/wenhao.lau/anaconda3/envs/dyson/lib/python3.8/site-packages/mlflow/tracking/fluent.py?line=118'>119</a>\u001b[0m \u001b[39mif\u001b[39;00m experiment_id \u001b[39mis\u001b[39;00m \u001b[39mNone\u001b[39;00m:\n\u001b[0;32m--> <a href='file:///Users/wenhao.lau/anaconda3/envs/dyson/lib/python3.8/site-packages/mlflow/tracking/fluent.py?line=119'>120</a>\u001b[0m     experiment \u001b[39m=\u001b[39m client\u001b[39m.\u001b[39;49mget_experiment_by_name(experiment_name)\n\u001b[1;32m    <a href='file:///Users/wenhao.lau/anaconda3/envs/dyson/lib/python3.8/site-packages/mlflow/tracking/fluent.py?line=120'>121</a>\u001b[0m     \u001b[39mif\u001b[39;00m \u001b[39mnot\u001b[39;00m experiment:\n\u001b[1;32m    <a href='file:///Users/wenhao.lau/anaconda3/envs/dyson/lib/python3.8/site-packages/mlflow/tracking/fluent.py?line=121'>122</a>\u001b[0m         _logger\u001b[39m.\u001b[39minfo(\n\u001b[1;32m    <a href='file:///Users/wenhao.lau/anaconda3/envs/dyson/lib/python3.8/site-packages/mlflow/tracking/fluent.py?line=122'>123</a>\u001b[0m             \u001b[39m\"\u001b[39m\u001b[39mExperiment with name \u001b[39m\u001b[39m'\u001b[39m\u001b[39m%s\u001b[39;00m\u001b[39m'\u001b[39m\u001b[39m does not exist. Creating a new experiment.\u001b[39m\u001b[39m\"\u001b[39m,\n\u001b[1;32m    <a href='file:///Users/wenhao.lau/anaconda3/envs/dyson/lib/python3.8/site-packages/mlflow/tracking/fluent.py?line=123'>124</a>\u001b[0m             experiment_name,\n\u001b[1;32m    <a href='file:///Users/wenhao.lau/anaconda3/envs/dyson/lib/python3.8/site-packages/mlflow/tracking/fluent.py?line=124'>125</a>\u001b[0m         )\n",
      "File \u001b[0;32m~/anaconda3/envs/dyson/lib/python3.8/site-packages/mlflow/tracking/client.py:462\u001b[0m, in \u001b[0;36mMlflowClient.get_experiment_by_name\u001b[0;34m(self, name)\u001b[0m\n\u001b[1;32m    <a href='file:///Users/wenhao.lau/anaconda3/envs/dyson/lib/python3.8/site-packages/mlflow/tracking/client.py?line=430'>431</a>\u001b[0m \u001b[39mdef\u001b[39;00m \u001b[39mget_experiment_by_name\u001b[39m(\u001b[39mself\u001b[39m, name: \u001b[39mstr\u001b[39m) \u001b[39m-\u001b[39m\u001b[39m>\u001b[39m Optional[Experiment]:\n\u001b[1;32m    <a href='file:///Users/wenhao.lau/anaconda3/envs/dyson/lib/python3.8/site-packages/mlflow/tracking/client.py?line=431'>432</a>\u001b[0m     \u001b[39m\"\"\"\u001b[39;00m\n\u001b[1;32m    <a href='file:///Users/wenhao.lau/anaconda3/envs/dyson/lib/python3.8/site-packages/mlflow/tracking/client.py?line=432'>433</a>\u001b[0m \u001b[39m    Retrieve an experiment by experiment name from the backend store\u001b[39;00m\n\u001b[1;32m    <a href='file:///Users/wenhao.lau/anaconda3/envs/dyson/lib/python3.8/site-packages/mlflow/tracking/client.py?line=433'>434</a>\u001b[0m \n\u001b[0;32m   (...)\u001b[0m\n\u001b[1;32m    <a href='file:///Users/wenhao.lau/anaconda3/envs/dyson/lib/python3.8/site-packages/mlflow/tracking/client.py?line=459'>460</a>\u001b[0m \u001b[39m        Lifecycle_stage: active\u001b[39;00m\n\u001b[1;32m    <a href='file:///Users/wenhao.lau/anaconda3/envs/dyson/lib/python3.8/site-packages/mlflow/tracking/client.py?line=460'>461</a>\u001b[0m \u001b[39m    \"\"\"\u001b[39;00m\n\u001b[0;32m--> <a href='file:///Users/wenhao.lau/anaconda3/envs/dyson/lib/python3.8/site-packages/mlflow/tracking/client.py?line=461'>462</a>\u001b[0m     \u001b[39mreturn\u001b[39;00m \u001b[39mself\u001b[39;49m\u001b[39m.\u001b[39;49m_tracking_client\u001b[39m.\u001b[39;49mget_experiment_by_name(name)\n",
      "File \u001b[0;32m~/anaconda3/envs/dyson/lib/python3.8/site-packages/mlflow/tracking/_tracking_service/client.py:167\u001b[0m, in \u001b[0;36mTrackingServiceClient.get_experiment_by_name\u001b[0;34m(self, name)\u001b[0m\n\u001b[1;32m    <a href='file:///Users/wenhao.lau/anaconda3/envs/dyson/lib/python3.8/site-packages/mlflow/tracking/_tracking_service/client.py?line=161'>162</a>\u001b[0m \u001b[39mdef\u001b[39;00m \u001b[39mget_experiment_by_name\u001b[39m(\u001b[39mself\u001b[39m, name):\n\u001b[1;32m    <a href='file:///Users/wenhao.lau/anaconda3/envs/dyson/lib/python3.8/site-packages/mlflow/tracking/_tracking_service/client.py?line=162'>163</a>\u001b[0m     \u001b[39m\"\"\"\u001b[39;00m\n\u001b[1;32m    <a href='file:///Users/wenhao.lau/anaconda3/envs/dyson/lib/python3.8/site-packages/mlflow/tracking/_tracking_service/client.py?line=163'>164</a>\u001b[0m \u001b[39m    :param name: The experiment name.\u001b[39;00m\n\u001b[1;32m    <a href='file:///Users/wenhao.lau/anaconda3/envs/dyson/lib/python3.8/site-packages/mlflow/tracking/_tracking_service/client.py?line=164'>165</a>\u001b[0m \u001b[39m    :return: :py:class:`mlflow.entities.Experiment`\u001b[39;00m\n\u001b[1;32m    <a href='file:///Users/wenhao.lau/anaconda3/envs/dyson/lib/python3.8/site-packages/mlflow/tracking/_tracking_service/client.py?line=165'>166</a>\u001b[0m \u001b[39m    \"\"\"\u001b[39;00m\n\u001b[0;32m--> <a href='file:///Users/wenhao.lau/anaconda3/envs/dyson/lib/python3.8/site-packages/mlflow/tracking/_tracking_service/client.py?line=166'>167</a>\u001b[0m     \u001b[39mreturn\u001b[39;00m \u001b[39mself\u001b[39;49m\u001b[39m.\u001b[39;49mstore\u001b[39m.\u001b[39;49mget_experiment_by_name(name)\n",
      "File \u001b[0;32m~/anaconda3/envs/dyson/lib/python3.8/site-packages/mlflow/store/tracking/rest_store.py:285\u001b[0m, in \u001b[0;36mRestStore.get_experiment_by_name\u001b[0;34m(self, experiment_name)\u001b[0m\n\u001b[1;32m    <a href='file:///Users/wenhao.lau/anaconda3/envs/dyson/lib/python3.8/site-packages/mlflow/store/tracking/rest_store.py?line=282'>283</a>\u001b[0m \u001b[39mtry\u001b[39;00m:\n\u001b[1;32m    <a href='file:///Users/wenhao.lau/anaconda3/envs/dyson/lib/python3.8/site-packages/mlflow/store/tracking/rest_store.py?line=283'>284</a>\u001b[0m     req_body \u001b[39m=\u001b[39m message_to_json(GetExperimentByName(experiment_name\u001b[39m=\u001b[39mexperiment_name))\n\u001b[0;32m--> <a href='file:///Users/wenhao.lau/anaconda3/envs/dyson/lib/python3.8/site-packages/mlflow/store/tracking/rest_store.py?line=284'>285</a>\u001b[0m     response_proto \u001b[39m=\u001b[39m \u001b[39mself\u001b[39;49m\u001b[39m.\u001b[39;49m_call_endpoint(GetExperimentByName, req_body)\n\u001b[1;32m    <a href='file:///Users/wenhao.lau/anaconda3/envs/dyson/lib/python3.8/site-packages/mlflow/store/tracking/rest_store.py?line=285'>286</a>\u001b[0m     \u001b[39mreturn\u001b[39;00m Experiment\u001b[39m.\u001b[39mfrom_proto(response_proto\u001b[39m.\u001b[39mexperiment)\n\u001b[1;32m    <a href='file:///Users/wenhao.lau/anaconda3/envs/dyson/lib/python3.8/site-packages/mlflow/store/tracking/rest_store.py?line=286'>287</a>\u001b[0m \u001b[39mexcept\u001b[39;00m MlflowException \u001b[39mas\u001b[39;00m e:\n",
      "File \u001b[0;32m~/anaconda3/envs/dyson/lib/python3.8/site-packages/mlflow/store/tracking/rest_store.py:56\u001b[0m, in \u001b[0;36mRestStore._call_endpoint\u001b[0;34m(self, api, json_body)\u001b[0m\n\u001b[1;32m     <a href='file:///Users/wenhao.lau/anaconda3/envs/dyson/lib/python3.8/site-packages/mlflow/store/tracking/rest_store.py?line=53'>54</a>\u001b[0m endpoint, method \u001b[39m=\u001b[39m _METHOD_TO_INFO[api]\n\u001b[1;32m     <a href='file:///Users/wenhao.lau/anaconda3/envs/dyson/lib/python3.8/site-packages/mlflow/store/tracking/rest_store.py?line=54'>55</a>\u001b[0m response_proto \u001b[39m=\u001b[39m api\u001b[39m.\u001b[39mResponse()\n\u001b[0;32m---> <a href='file:///Users/wenhao.lau/anaconda3/envs/dyson/lib/python3.8/site-packages/mlflow/store/tracking/rest_store.py?line=55'>56</a>\u001b[0m \u001b[39mreturn\u001b[39;00m call_endpoint(\u001b[39mself\u001b[39;49m\u001b[39m.\u001b[39;49mget_host_creds(), endpoint, method, json_body, response_proto)\n",
      "File \u001b[0;32m~/anaconda3/envs/dyson/lib/python3.8/site-packages/mlflow/utils/rest_utils.py:233\u001b[0m, in \u001b[0;36mcall_endpoint\u001b[0;34m(host_creds, endpoint, method, json_body, response_proto)\u001b[0m\n\u001b[1;32m    <a href='file:///Users/wenhao.lau/anaconda3/envs/dyson/lib/python3.8/site-packages/mlflow/utils/rest_utils.py?line=230'>231</a>\u001b[0m     json_body \u001b[39m=\u001b[39m json\u001b[39m.\u001b[39mloads(json_body)\n\u001b[1;32m    <a href='file:///Users/wenhao.lau/anaconda3/envs/dyson/lib/python3.8/site-packages/mlflow/utils/rest_utils.py?line=231'>232</a>\u001b[0m \u001b[39mif\u001b[39;00m method \u001b[39m==\u001b[39m \u001b[39m\"\u001b[39m\u001b[39mGET\u001b[39m\u001b[39m\"\u001b[39m:\n\u001b[0;32m--> <a href='file:///Users/wenhao.lau/anaconda3/envs/dyson/lib/python3.8/site-packages/mlflow/utils/rest_utils.py?line=232'>233</a>\u001b[0m     response \u001b[39m=\u001b[39m http_request(\n\u001b[1;32m    <a href='file:///Users/wenhao.lau/anaconda3/envs/dyson/lib/python3.8/site-packages/mlflow/utils/rest_utils.py?line=233'>234</a>\u001b[0m         host_creds\u001b[39m=\u001b[39;49mhost_creds, endpoint\u001b[39m=\u001b[39;49mendpoint, method\u001b[39m=\u001b[39;49mmethod, params\u001b[39m=\u001b[39;49mjson_body\n\u001b[1;32m    <a href='file:///Users/wenhao.lau/anaconda3/envs/dyson/lib/python3.8/site-packages/mlflow/utils/rest_utils.py?line=234'>235</a>\u001b[0m     )\n\u001b[1;32m    <a href='file:///Users/wenhao.lau/anaconda3/envs/dyson/lib/python3.8/site-packages/mlflow/utils/rest_utils.py?line=235'>236</a>\u001b[0m \u001b[39melse\u001b[39;00m:\n\u001b[1;32m    <a href='file:///Users/wenhao.lau/anaconda3/envs/dyson/lib/python3.8/site-packages/mlflow/utils/rest_utils.py?line=236'>237</a>\u001b[0m     response \u001b[39m=\u001b[39m http_request(\n\u001b[1;32m    <a href='file:///Users/wenhao.lau/anaconda3/envs/dyson/lib/python3.8/site-packages/mlflow/utils/rest_utils.py?line=237'>238</a>\u001b[0m         host_creds\u001b[39m=\u001b[39mhost_creds, endpoint\u001b[39m=\u001b[39mendpoint, method\u001b[39m=\u001b[39mmethod, json\u001b[39m=\u001b[39mjson_body\n\u001b[1;32m    <a href='file:///Users/wenhao.lau/anaconda3/envs/dyson/lib/python3.8/site-packages/mlflow/utils/rest_utils.py?line=238'>239</a>\u001b[0m     )\n",
      "File \u001b[0;32m~/anaconda3/envs/dyson/lib/python3.8/site-packages/mlflow/utils/rest_utils.py:135\u001b[0m, in \u001b[0;36mhttp_request\u001b[0;34m(host_creds, endpoint, method, max_retries, backoff_factor, retry_codes, timeout, **kwargs)\u001b[0m\n\u001b[1;32m    <a href='file:///Users/wenhao.lau/anaconda3/envs/dyson/lib/python3.8/site-packages/mlflow/utils/rest_utils.py?line=132'>133</a>\u001b[0m url \u001b[39m=\u001b[39m \u001b[39m\"\u001b[39m\u001b[39m%s\u001b[39;00m\u001b[39m%s\u001b[39;00m\u001b[39m\"\u001b[39m \u001b[39m%\u001b[39m (cleaned_hostname, endpoint)\n\u001b[1;32m    <a href='file:///Users/wenhao.lau/anaconda3/envs/dyson/lib/python3.8/site-packages/mlflow/utils/rest_utils.py?line=133'>134</a>\u001b[0m \u001b[39mtry\u001b[39;00m:\n\u001b[0;32m--> <a href='file:///Users/wenhao.lau/anaconda3/envs/dyson/lib/python3.8/site-packages/mlflow/utils/rest_utils.py?line=134'>135</a>\u001b[0m     \u001b[39mreturn\u001b[39;00m _get_http_response_with_retries(\n\u001b[1;32m    <a href='file:///Users/wenhao.lau/anaconda3/envs/dyson/lib/python3.8/site-packages/mlflow/utils/rest_utils.py?line=135'>136</a>\u001b[0m         method,\n\u001b[1;32m    <a href='file:///Users/wenhao.lau/anaconda3/envs/dyson/lib/python3.8/site-packages/mlflow/utils/rest_utils.py?line=136'>137</a>\u001b[0m         url,\n\u001b[1;32m    <a href='file:///Users/wenhao.lau/anaconda3/envs/dyson/lib/python3.8/site-packages/mlflow/utils/rest_utils.py?line=137'>138</a>\u001b[0m         max_retries,\n\u001b[1;32m    <a href='file:///Users/wenhao.lau/anaconda3/envs/dyson/lib/python3.8/site-packages/mlflow/utils/rest_utils.py?line=138'>139</a>\u001b[0m         backoff_factor,\n\u001b[1;32m    <a href='file:///Users/wenhao.lau/anaconda3/envs/dyson/lib/python3.8/site-packages/mlflow/utils/rest_utils.py?line=139'>140</a>\u001b[0m         retry_codes,\n\u001b[1;32m    <a href='file:///Users/wenhao.lau/anaconda3/envs/dyson/lib/python3.8/site-packages/mlflow/utils/rest_utils.py?line=140'>141</a>\u001b[0m         headers\u001b[39m=\u001b[39;49mheaders,\n\u001b[1;32m    <a href='file:///Users/wenhao.lau/anaconda3/envs/dyson/lib/python3.8/site-packages/mlflow/utils/rest_utils.py?line=141'>142</a>\u001b[0m         verify\u001b[39m=\u001b[39;49mverify,\n\u001b[1;32m    <a href='file:///Users/wenhao.lau/anaconda3/envs/dyson/lib/python3.8/site-packages/mlflow/utils/rest_utils.py?line=142'>143</a>\u001b[0m         timeout\u001b[39m=\u001b[39;49mtimeout,\n\u001b[1;32m    <a href='file:///Users/wenhao.lau/anaconda3/envs/dyson/lib/python3.8/site-packages/mlflow/utils/rest_utils.py?line=143'>144</a>\u001b[0m         \u001b[39m*\u001b[39;49m\u001b[39m*\u001b[39;49mkwargs,\n\u001b[1;32m    <a href='file:///Users/wenhao.lau/anaconda3/envs/dyson/lib/python3.8/site-packages/mlflow/utils/rest_utils.py?line=144'>145</a>\u001b[0m     )\n\u001b[1;32m    <a href='file:///Users/wenhao.lau/anaconda3/envs/dyson/lib/python3.8/site-packages/mlflow/utils/rest_utils.py?line=145'>146</a>\u001b[0m \u001b[39mexcept\u001b[39;00m \u001b[39mException\u001b[39;00m \u001b[39mas\u001b[39;00m e:\n\u001b[1;32m    <a href='file:///Users/wenhao.lau/anaconda3/envs/dyson/lib/python3.8/site-packages/mlflow/utils/rest_utils.py?line=146'>147</a>\u001b[0m     \u001b[39mraise\u001b[39;00m MlflowException(\u001b[39m\"\u001b[39m\u001b[39mAPI request to \u001b[39m\u001b[39m%s\u001b[39;00m\u001b[39m failed with exception \u001b[39m\u001b[39m%s\u001b[39;00m\u001b[39m\"\u001b[39m \u001b[39m%\u001b[39m (url, e))\n",
      "File \u001b[0;32m~/anaconda3/envs/dyson/lib/python3.8/site-packages/mlflow/utils/rest_utils.py:75\u001b[0m, in \u001b[0;36m_get_http_response_with_retries\u001b[0;34m(method, url, max_retries, backoff_factor, retry_codes, **kwargs)\u001b[0m\n\u001b[1;32m     <a href='file:///Users/wenhao.lau/anaconda3/envs/dyson/lib/python3.8/site-packages/mlflow/utils/rest_utils.py?line=72'>73</a>\u001b[0m http\u001b[39m.\u001b[39mmount(\u001b[39m\"\u001b[39m\u001b[39mhttps://\u001b[39m\u001b[39m\"\u001b[39m, adapter)\n\u001b[1;32m     <a href='file:///Users/wenhao.lau/anaconda3/envs/dyson/lib/python3.8/site-packages/mlflow/utils/rest_utils.py?line=73'>74</a>\u001b[0m http\u001b[39m.\u001b[39mmount(\u001b[39m\"\u001b[39m\u001b[39mhttp://\u001b[39m\u001b[39m\"\u001b[39m, adapter)\n\u001b[0;32m---> <a href='file:///Users/wenhao.lau/anaconda3/envs/dyson/lib/python3.8/site-packages/mlflow/utils/rest_utils.py?line=74'>75</a>\u001b[0m response \u001b[39m=\u001b[39m http\u001b[39m.\u001b[39;49mrequest(method, url, \u001b[39m*\u001b[39;49m\u001b[39m*\u001b[39;49mkwargs)\n\u001b[1;32m     <a href='file:///Users/wenhao.lau/anaconda3/envs/dyson/lib/python3.8/site-packages/mlflow/utils/rest_utils.py?line=75'>76</a>\u001b[0m \u001b[39mreturn\u001b[39;00m response\n",
      "File \u001b[0;32m~/anaconda3/envs/dyson/lib/python3.8/site-packages/requests/sessions.py:529\u001b[0m, in \u001b[0;36mSession.request\u001b[0;34m(self, method, url, params, data, headers, cookies, files, auth, timeout, allow_redirects, proxies, hooks, stream, verify, cert, json)\u001b[0m\n\u001b[1;32m    <a href='file:///Users/wenhao.lau/anaconda3/envs/dyson/lib/python3.8/site-packages/requests/sessions.py?line=523'>524</a>\u001b[0m send_kwargs \u001b[39m=\u001b[39m {\n\u001b[1;32m    <a href='file:///Users/wenhao.lau/anaconda3/envs/dyson/lib/python3.8/site-packages/requests/sessions.py?line=524'>525</a>\u001b[0m     \u001b[39m'\u001b[39m\u001b[39mtimeout\u001b[39m\u001b[39m'\u001b[39m: timeout,\n\u001b[1;32m    <a href='file:///Users/wenhao.lau/anaconda3/envs/dyson/lib/python3.8/site-packages/requests/sessions.py?line=525'>526</a>\u001b[0m     \u001b[39m'\u001b[39m\u001b[39mallow_redirects\u001b[39m\u001b[39m'\u001b[39m: allow_redirects,\n\u001b[1;32m    <a href='file:///Users/wenhao.lau/anaconda3/envs/dyson/lib/python3.8/site-packages/requests/sessions.py?line=526'>527</a>\u001b[0m }\n\u001b[1;32m    <a href='file:///Users/wenhao.lau/anaconda3/envs/dyson/lib/python3.8/site-packages/requests/sessions.py?line=527'>528</a>\u001b[0m send_kwargs\u001b[39m.\u001b[39mupdate(settings)\n\u001b[0;32m--> <a href='file:///Users/wenhao.lau/anaconda3/envs/dyson/lib/python3.8/site-packages/requests/sessions.py?line=528'>529</a>\u001b[0m resp \u001b[39m=\u001b[39m \u001b[39mself\u001b[39;49m\u001b[39m.\u001b[39;49msend(prep, \u001b[39m*\u001b[39;49m\u001b[39m*\u001b[39;49msend_kwargs)\n\u001b[1;32m    <a href='file:///Users/wenhao.lau/anaconda3/envs/dyson/lib/python3.8/site-packages/requests/sessions.py?line=530'>531</a>\u001b[0m \u001b[39mreturn\u001b[39;00m resp\n",
      "File \u001b[0;32m~/anaconda3/envs/dyson/lib/python3.8/site-packages/requests/sessions.py:645\u001b[0m, in \u001b[0;36mSession.send\u001b[0;34m(self, request, **kwargs)\u001b[0m\n\u001b[1;32m    <a href='file:///Users/wenhao.lau/anaconda3/envs/dyson/lib/python3.8/site-packages/requests/sessions.py?line=641'>642</a>\u001b[0m start \u001b[39m=\u001b[39m preferred_clock()\n\u001b[1;32m    <a href='file:///Users/wenhao.lau/anaconda3/envs/dyson/lib/python3.8/site-packages/requests/sessions.py?line=643'>644</a>\u001b[0m \u001b[39m# Send the request\u001b[39;00m\n\u001b[0;32m--> <a href='file:///Users/wenhao.lau/anaconda3/envs/dyson/lib/python3.8/site-packages/requests/sessions.py?line=644'>645</a>\u001b[0m r \u001b[39m=\u001b[39m adapter\u001b[39m.\u001b[39;49msend(request, \u001b[39m*\u001b[39;49m\u001b[39m*\u001b[39;49mkwargs)\n\u001b[1;32m    <a href='file:///Users/wenhao.lau/anaconda3/envs/dyson/lib/python3.8/site-packages/requests/sessions.py?line=646'>647</a>\u001b[0m \u001b[39m# Total elapsed time of the request (approximately)\u001b[39;00m\n\u001b[1;32m    <a href='file:///Users/wenhao.lau/anaconda3/envs/dyson/lib/python3.8/site-packages/requests/sessions.py?line=647'>648</a>\u001b[0m elapsed \u001b[39m=\u001b[39m preferred_clock() \u001b[39m-\u001b[39m start\n",
      "File \u001b[0;32m~/anaconda3/envs/dyson/lib/python3.8/site-packages/requests/adapters.py:440\u001b[0m, in \u001b[0;36mHTTPAdapter.send\u001b[0;34m(self, request, stream, timeout, verify, cert, proxies)\u001b[0m\n\u001b[1;32m    <a href='file:///Users/wenhao.lau/anaconda3/envs/dyson/lib/python3.8/site-packages/requests/adapters.py?line=437'>438</a>\u001b[0m \u001b[39mtry\u001b[39;00m:\n\u001b[1;32m    <a href='file:///Users/wenhao.lau/anaconda3/envs/dyson/lib/python3.8/site-packages/requests/adapters.py?line=438'>439</a>\u001b[0m     \u001b[39mif\u001b[39;00m \u001b[39mnot\u001b[39;00m chunked:\n\u001b[0;32m--> <a href='file:///Users/wenhao.lau/anaconda3/envs/dyson/lib/python3.8/site-packages/requests/adapters.py?line=439'>440</a>\u001b[0m         resp \u001b[39m=\u001b[39m conn\u001b[39m.\u001b[39;49murlopen(\n\u001b[1;32m    <a href='file:///Users/wenhao.lau/anaconda3/envs/dyson/lib/python3.8/site-packages/requests/adapters.py?line=440'>441</a>\u001b[0m             method\u001b[39m=\u001b[39;49mrequest\u001b[39m.\u001b[39;49mmethod,\n\u001b[1;32m    <a href='file:///Users/wenhao.lau/anaconda3/envs/dyson/lib/python3.8/site-packages/requests/adapters.py?line=441'>442</a>\u001b[0m             url\u001b[39m=\u001b[39;49murl,\n\u001b[1;32m    <a href='file:///Users/wenhao.lau/anaconda3/envs/dyson/lib/python3.8/site-packages/requests/adapters.py?line=442'>443</a>\u001b[0m             body\u001b[39m=\u001b[39;49mrequest\u001b[39m.\u001b[39;49mbody,\n\u001b[1;32m    <a href='file:///Users/wenhao.lau/anaconda3/envs/dyson/lib/python3.8/site-packages/requests/adapters.py?line=443'>444</a>\u001b[0m             headers\u001b[39m=\u001b[39;49mrequest\u001b[39m.\u001b[39;49mheaders,\n\u001b[1;32m    <a href='file:///Users/wenhao.lau/anaconda3/envs/dyson/lib/python3.8/site-packages/requests/adapters.py?line=444'>445</a>\u001b[0m             redirect\u001b[39m=\u001b[39;49m\u001b[39mFalse\u001b[39;49;00m,\n\u001b[1;32m    <a href='file:///Users/wenhao.lau/anaconda3/envs/dyson/lib/python3.8/site-packages/requests/adapters.py?line=445'>446</a>\u001b[0m             assert_same_host\u001b[39m=\u001b[39;49m\u001b[39mFalse\u001b[39;49;00m,\n\u001b[1;32m    <a href='file:///Users/wenhao.lau/anaconda3/envs/dyson/lib/python3.8/site-packages/requests/adapters.py?line=446'>447</a>\u001b[0m             preload_content\u001b[39m=\u001b[39;49m\u001b[39mFalse\u001b[39;49;00m,\n\u001b[1;32m    <a href='file:///Users/wenhao.lau/anaconda3/envs/dyson/lib/python3.8/site-packages/requests/adapters.py?line=447'>448</a>\u001b[0m             decode_content\u001b[39m=\u001b[39;49m\u001b[39mFalse\u001b[39;49;00m,\n\u001b[1;32m    <a href='file:///Users/wenhao.lau/anaconda3/envs/dyson/lib/python3.8/site-packages/requests/adapters.py?line=448'>449</a>\u001b[0m             retries\u001b[39m=\u001b[39;49m\u001b[39mself\u001b[39;49m\u001b[39m.\u001b[39;49mmax_retries,\n\u001b[1;32m    <a href='file:///Users/wenhao.lau/anaconda3/envs/dyson/lib/python3.8/site-packages/requests/adapters.py?line=449'>450</a>\u001b[0m             timeout\u001b[39m=\u001b[39;49mtimeout\n\u001b[1;32m    <a href='file:///Users/wenhao.lau/anaconda3/envs/dyson/lib/python3.8/site-packages/requests/adapters.py?line=450'>451</a>\u001b[0m         )\n\u001b[1;32m    <a href='file:///Users/wenhao.lau/anaconda3/envs/dyson/lib/python3.8/site-packages/requests/adapters.py?line=452'>453</a>\u001b[0m     \u001b[39m# Send the request.\u001b[39;00m\n\u001b[1;32m    <a href='file:///Users/wenhao.lau/anaconda3/envs/dyson/lib/python3.8/site-packages/requests/adapters.py?line=453'>454</a>\u001b[0m     \u001b[39melse\u001b[39;00m:\n\u001b[1;32m    <a href='file:///Users/wenhao.lau/anaconda3/envs/dyson/lib/python3.8/site-packages/requests/adapters.py?line=454'>455</a>\u001b[0m         \u001b[39mif\u001b[39;00m \u001b[39mhasattr\u001b[39m(conn, \u001b[39m'\u001b[39m\u001b[39mproxy_pool\u001b[39m\u001b[39m'\u001b[39m):\n",
      "File \u001b[0;32m~/anaconda3/envs/dyson/lib/python3.8/site-packages/urllib3/connectionpool.py:813\u001b[0m, in \u001b[0;36mHTTPConnectionPool.urlopen\u001b[0;34m(self, method, url, body, headers, retries, redirect, assert_same_host, timeout, pool_timeout, release_conn, chunked, body_pos, **response_kw)\u001b[0m\n\u001b[1;32m    <a href='file:///Users/wenhao.lau/anaconda3/envs/dyson/lib/python3.8/site-packages/urllib3/connectionpool.py?line=807'>808</a>\u001b[0m \u001b[39mif\u001b[39;00m \u001b[39mnot\u001b[39;00m conn:\n\u001b[1;32m    <a href='file:///Users/wenhao.lau/anaconda3/envs/dyson/lib/python3.8/site-packages/urllib3/connectionpool.py?line=808'>809</a>\u001b[0m     \u001b[39m# Try again\u001b[39;00m\n\u001b[1;32m    <a href='file:///Users/wenhao.lau/anaconda3/envs/dyson/lib/python3.8/site-packages/urllib3/connectionpool.py?line=809'>810</a>\u001b[0m     log\u001b[39m.\u001b[39mwarning(\n\u001b[1;32m    <a href='file:///Users/wenhao.lau/anaconda3/envs/dyson/lib/python3.8/site-packages/urllib3/connectionpool.py?line=810'>811</a>\u001b[0m         \u001b[39m\"\u001b[39m\u001b[39mRetrying (\u001b[39m\u001b[39m%r\u001b[39;00m\u001b[39m) after connection broken by \u001b[39m\u001b[39m'\u001b[39m\u001b[39m%r\u001b[39;00m\u001b[39m'\u001b[39m\u001b[39m: \u001b[39m\u001b[39m%s\u001b[39;00m\u001b[39m\"\u001b[39m, retries, err, url\n\u001b[1;32m    <a href='file:///Users/wenhao.lau/anaconda3/envs/dyson/lib/python3.8/site-packages/urllib3/connectionpool.py?line=811'>812</a>\u001b[0m     )\n\u001b[0;32m--> <a href='file:///Users/wenhao.lau/anaconda3/envs/dyson/lib/python3.8/site-packages/urllib3/connectionpool.py?line=812'>813</a>\u001b[0m     \u001b[39mreturn\u001b[39;00m \u001b[39mself\u001b[39;49m\u001b[39m.\u001b[39;49murlopen(\n\u001b[1;32m    <a href='file:///Users/wenhao.lau/anaconda3/envs/dyson/lib/python3.8/site-packages/urllib3/connectionpool.py?line=813'>814</a>\u001b[0m         method,\n\u001b[1;32m    <a href='file:///Users/wenhao.lau/anaconda3/envs/dyson/lib/python3.8/site-packages/urllib3/connectionpool.py?line=814'>815</a>\u001b[0m         url,\n\u001b[1;32m    <a href='file:///Users/wenhao.lau/anaconda3/envs/dyson/lib/python3.8/site-packages/urllib3/connectionpool.py?line=815'>816</a>\u001b[0m         body,\n\u001b[1;32m    <a href='file:///Users/wenhao.lau/anaconda3/envs/dyson/lib/python3.8/site-packages/urllib3/connectionpool.py?line=816'>817</a>\u001b[0m         headers,\n\u001b[1;32m    <a href='file:///Users/wenhao.lau/anaconda3/envs/dyson/lib/python3.8/site-packages/urllib3/connectionpool.py?line=817'>818</a>\u001b[0m         retries,\n\u001b[1;32m    <a href='file:///Users/wenhao.lau/anaconda3/envs/dyson/lib/python3.8/site-packages/urllib3/connectionpool.py?line=818'>819</a>\u001b[0m         redirect,\n\u001b[1;32m    <a href='file:///Users/wenhao.lau/anaconda3/envs/dyson/lib/python3.8/site-packages/urllib3/connectionpool.py?line=819'>820</a>\u001b[0m         assert_same_host,\n\u001b[1;32m    <a href='file:///Users/wenhao.lau/anaconda3/envs/dyson/lib/python3.8/site-packages/urllib3/connectionpool.py?line=820'>821</a>\u001b[0m         timeout\u001b[39m=\u001b[39;49mtimeout,\n\u001b[1;32m    <a href='file:///Users/wenhao.lau/anaconda3/envs/dyson/lib/python3.8/site-packages/urllib3/connectionpool.py?line=821'>822</a>\u001b[0m         pool_timeout\u001b[39m=\u001b[39;49mpool_timeout,\n\u001b[1;32m    <a href='file:///Users/wenhao.lau/anaconda3/envs/dyson/lib/python3.8/site-packages/urllib3/connectionpool.py?line=822'>823</a>\u001b[0m         release_conn\u001b[39m=\u001b[39;49mrelease_conn,\n\u001b[1;32m    <a href='file:///Users/wenhao.lau/anaconda3/envs/dyson/lib/python3.8/site-packages/urllib3/connectionpool.py?line=823'>824</a>\u001b[0m         chunked\u001b[39m=\u001b[39;49mchunked,\n\u001b[1;32m    <a href='file:///Users/wenhao.lau/anaconda3/envs/dyson/lib/python3.8/site-packages/urllib3/connectionpool.py?line=824'>825</a>\u001b[0m         body_pos\u001b[39m=\u001b[39;49mbody_pos,\n\u001b[1;32m    <a href='file:///Users/wenhao.lau/anaconda3/envs/dyson/lib/python3.8/site-packages/urllib3/connectionpool.py?line=825'>826</a>\u001b[0m         \u001b[39m*\u001b[39;49m\u001b[39m*\u001b[39;49mresponse_kw\n\u001b[1;32m    <a href='file:///Users/wenhao.lau/anaconda3/envs/dyson/lib/python3.8/site-packages/urllib3/connectionpool.py?line=826'>827</a>\u001b[0m     )\n\u001b[1;32m    <a href='file:///Users/wenhao.lau/anaconda3/envs/dyson/lib/python3.8/site-packages/urllib3/connectionpool.py?line=828'>829</a>\u001b[0m \u001b[39m# Handle redirect?\u001b[39;00m\n\u001b[1;32m    <a href='file:///Users/wenhao.lau/anaconda3/envs/dyson/lib/python3.8/site-packages/urllib3/connectionpool.py?line=829'>830</a>\u001b[0m redirect_location \u001b[39m=\u001b[39m redirect \u001b[39mand\u001b[39;00m response\u001b[39m.\u001b[39mget_redirect_location()\n",
      "File \u001b[0;32m~/anaconda3/envs/dyson/lib/python3.8/site-packages/urllib3/connectionpool.py:813\u001b[0m, in \u001b[0;36mHTTPConnectionPool.urlopen\u001b[0;34m(self, method, url, body, headers, retries, redirect, assert_same_host, timeout, pool_timeout, release_conn, chunked, body_pos, **response_kw)\u001b[0m\n\u001b[1;32m    <a href='file:///Users/wenhao.lau/anaconda3/envs/dyson/lib/python3.8/site-packages/urllib3/connectionpool.py?line=807'>808</a>\u001b[0m \u001b[39mif\u001b[39;00m \u001b[39mnot\u001b[39;00m conn:\n\u001b[1;32m    <a href='file:///Users/wenhao.lau/anaconda3/envs/dyson/lib/python3.8/site-packages/urllib3/connectionpool.py?line=808'>809</a>\u001b[0m     \u001b[39m# Try again\u001b[39;00m\n\u001b[1;32m    <a href='file:///Users/wenhao.lau/anaconda3/envs/dyson/lib/python3.8/site-packages/urllib3/connectionpool.py?line=809'>810</a>\u001b[0m     log\u001b[39m.\u001b[39mwarning(\n\u001b[1;32m    <a href='file:///Users/wenhao.lau/anaconda3/envs/dyson/lib/python3.8/site-packages/urllib3/connectionpool.py?line=810'>811</a>\u001b[0m         \u001b[39m\"\u001b[39m\u001b[39mRetrying (\u001b[39m\u001b[39m%r\u001b[39;00m\u001b[39m) after connection broken by \u001b[39m\u001b[39m'\u001b[39m\u001b[39m%r\u001b[39;00m\u001b[39m'\u001b[39m\u001b[39m: \u001b[39m\u001b[39m%s\u001b[39;00m\u001b[39m\"\u001b[39m, retries, err, url\n\u001b[1;32m    <a href='file:///Users/wenhao.lau/anaconda3/envs/dyson/lib/python3.8/site-packages/urllib3/connectionpool.py?line=811'>812</a>\u001b[0m     )\n\u001b[0;32m--> <a href='file:///Users/wenhao.lau/anaconda3/envs/dyson/lib/python3.8/site-packages/urllib3/connectionpool.py?line=812'>813</a>\u001b[0m     \u001b[39mreturn\u001b[39;00m \u001b[39mself\u001b[39;49m\u001b[39m.\u001b[39;49murlopen(\n\u001b[1;32m    <a href='file:///Users/wenhao.lau/anaconda3/envs/dyson/lib/python3.8/site-packages/urllib3/connectionpool.py?line=813'>814</a>\u001b[0m         method,\n\u001b[1;32m    <a href='file:///Users/wenhao.lau/anaconda3/envs/dyson/lib/python3.8/site-packages/urllib3/connectionpool.py?line=814'>815</a>\u001b[0m         url,\n\u001b[1;32m    <a href='file:///Users/wenhao.lau/anaconda3/envs/dyson/lib/python3.8/site-packages/urllib3/connectionpool.py?line=815'>816</a>\u001b[0m         body,\n\u001b[1;32m    <a href='file:///Users/wenhao.lau/anaconda3/envs/dyson/lib/python3.8/site-packages/urllib3/connectionpool.py?line=816'>817</a>\u001b[0m         headers,\n\u001b[1;32m    <a href='file:///Users/wenhao.lau/anaconda3/envs/dyson/lib/python3.8/site-packages/urllib3/connectionpool.py?line=817'>818</a>\u001b[0m         retries,\n\u001b[1;32m    <a href='file:///Users/wenhao.lau/anaconda3/envs/dyson/lib/python3.8/site-packages/urllib3/connectionpool.py?line=818'>819</a>\u001b[0m         redirect,\n\u001b[1;32m    <a href='file:///Users/wenhao.lau/anaconda3/envs/dyson/lib/python3.8/site-packages/urllib3/connectionpool.py?line=819'>820</a>\u001b[0m         assert_same_host,\n\u001b[1;32m    <a href='file:///Users/wenhao.lau/anaconda3/envs/dyson/lib/python3.8/site-packages/urllib3/connectionpool.py?line=820'>821</a>\u001b[0m         timeout\u001b[39m=\u001b[39;49mtimeout,\n\u001b[1;32m    <a href='file:///Users/wenhao.lau/anaconda3/envs/dyson/lib/python3.8/site-packages/urllib3/connectionpool.py?line=821'>822</a>\u001b[0m         pool_timeout\u001b[39m=\u001b[39;49mpool_timeout,\n\u001b[1;32m    <a href='file:///Users/wenhao.lau/anaconda3/envs/dyson/lib/python3.8/site-packages/urllib3/connectionpool.py?line=822'>823</a>\u001b[0m         release_conn\u001b[39m=\u001b[39;49mrelease_conn,\n\u001b[1;32m    <a href='file:///Users/wenhao.lau/anaconda3/envs/dyson/lib/python3.8/site-packages/urllib3/connectionpool.py?line=823'>824</a>\u001b[0m         chunked\u001b[39m=\u001b[39;49mchunked,\n\u001b[1;32m    <a href='file:///Users/wenhao.lau/anaconda3/envs/dyson/lib/python3.8/site-packages/urllib3/connectionpool.py?line=824'>825</a>\u001b[0m         body_pos\u001b[39m=\u001b[39;49mbody_pos,\n\u001b[1;32m    <a href='file:///Users/wenhao.lau/anaconda3/envs/dyson/lib/python3.8/site-packages/urllib3/connectionpool.py?line=825'>826</a>\u001b[0m         \u001b[39m*\u001b[39;49m\u001b[39m*\u001b[39;49mresponse_kw\n\u001b[1;32m    <a href='file:///Users/wenhao.lau/anaconda3/envs/dyson/lib/python3.8/site-packages/urllib3/connectionpool.py?line=826'>827</a>\u001b[0m     )\n\u001b[1;32m    <a href='file:///Users/wenhao.lau/anaconda3/envs/dyson/lib/python3.8/site-packages/urllib3/connectionpool.py?line=828'>829</a>\u001b[0m \u001b[39m# Handle redirect?\u001b[39;00m\n\u001b[1;32m    <a href='file:///Users/wenhao.lau/anaconda3/envs/dyson/lib/python3.8/site-packages/urllib3/connectionpool.py?line=829'>830</a>\u001b[0m redirect_location \u001b[39m=\u001b[39m redirect \u001b[39mand\u001b[39;00m response\u001b[39m.\u001b[39mget_redirect_location()\n",
      "File \u001b[0;32m~/anaconda3/envs/dyson/lib/python3.8/site-packages/urllib3/connectionpool.py:703\u001b[0m, in \u001b[0;36mHTTPConnectionPool.urlopen\u001b[0;34m(self, method, url, body, headers, retries, redirect, assert_same_host, timeout, pool_timeout, release_conn, chunked, body_pos, **response_kw)\u001b[0m\n\u001b[1;32m    <a href='file:///Users/wenhao.lau/anaconda3/envs/dyson/lib/python3.8/site-packages/urllib3/connectionpool.py?line=699'>700</a>\u001b[0m     \u001b[39mself\u001b[39m\u001b[39m.\u001b[39m_prepare_proxy(conn)\n\u001b[1;32m    <a href='file:///Users/wenhao.lau/anaconda3/envs/dyson/lib/python3.8/site-packages/urllib3/connectionpool.py?line=701'>702</a>\u001b[0m \u001b[39m# Make the request on the httplib connection object.\u001b[39;00m\n\u001b[0;32m--> <a href='file:///Users/wenhao.lau/anaconda3/envs/dyson/lib/python3.8/site-packages/urllib3/connectionpool.py?line=702'>703</a>\u001b[0m httplib_response \u001b[39m=\u001b[39m \u001b[39mself\u001b[39;49m\u001b[39m.\u001b[39;49m_make_request(\n\u001b[1;32m    <a href='file:///Users/wenhao.lau/anaconda3/envs/dyson/lib/python3.8/site-packages/urllib3/connectionpool.py?line=703'>704</a>\u001b[0m     conn,\n\u001b[1;32m    <a href='file:///Users/wenhao.lau/anaconda3/envs/dyson/lib/python3.8/site-packages/urllib3/connectionpool.py?line=704'>705</a>\u001b[0m     method,\n\u001b[1;32m    <a href='file:///Users/wenhao.lau/anaconda3/envs/dyson/lib/python3.8/site-packages/urllib3/connectionpool.py?line=705'>706</a>\u001b[0m     url,\n\u001b[1;32m    <a href='file:///Users/wenhao.lau/anaconda3/envs/dyson/lib/python3.8/site-packages/urllib3/connectionpool.py?line=706'>707</a>\u001b[0m     timeout\u001b[39m=\u001b[39;49mtimeout_obj,\n\u001b[1;32m    <a href='file:///Users/wenhao.lau/anaconda3/envs/dyson/lib/python3.8/site-packages/urllib3/connectionpool.py?line=707'>708</a>\u001b[0m     body\u001b[39m=\u001b[39;49mbody,\n\u001b[1;32m    <a href='file:///Users/wenhao.lau/anaconda3/envs/dyson/lib/python3.8/site-packages/urllib3/connectionpool.py?line=708'>709</a>\u001b[0m     headers\u001b[39m=\u001b[39;49mheaders,\n\u001b[1;32m    <a href='file:///Users/wenhao.lau/anaconda3/envs/dyson/lib/python3.8/site-packages/urllib3/connectionpool.py?line=709'>710</a>\u001b[0m     chunked\u001b[39m=\u001b[39;49mchunked,\n\u001b[1;32m    <a href='file:///Users/wenhao.lau/anaconda3/envs/dyson/lib/python3.8/site-packages/urllib3/connectionpool.py?line=710'>711</a>\u001b[0m )\n\u001b[1;32m    <a href='file:///Users/wenhao.lau/anaconda3/envs/dyson/lib/python3.8/site-packages/urllib3/connectionpool.py?line=712'>713</a>\u001b[0m \u001b[39m# If we're going to release the connection in ``finally:``, then\u001b[39;00m\n\u001b[1;32m    <a href='file:///Users/wenhao.lau/anaconda3/envs/dyson/lib/python3.8/site-packages/urllib3/connectionpool.py?line=713'>714</a>\u001b[0m \u001b[39m# the response doesn't need to know about the connection. Otherwise\u001b[39;00m\n\u001b[1;32m    <a href='file:///Users/wenhao.lau/anaconda3/envs/dyson/lib/python3.8/site-packages/urllib3/connectionpool.py?line=714'>715</a>\u001b[0m \u001b[39m# it will also try to release it and we'll have a double-release\u001b[39;00m\n\u001b[1;32m    <a href='file:///Users/wenhao.lau/anaconda3/envs/dyson/lib/python3.8/site-packages/urllib3/connectionpool.py?line=715'>716</a>\u001b[0m \u001b[39m# mess.\u001b[39;00m\n\u001b[1;32m    <a href='file:///Users/wenhao.lau/anaconda3/envs/dyson/lib/python3.8/site-packages/urllib3/connectionpool.py?line=716'>717</a>\u001b[0m response_conn \u001b[39m=\u001b[39m conn \u001b[39mif\u001b[39;00m \u001b[39mnot\u001b[39;00m release_conn \u001b[39melse\u001b[39;00m \u001b[39mNone\u001b[39;00m\n",
      "File \u001b[0;32m~/anaconda3/envs/dyson/lib/python3.8/site-packages/urllib3/connectionpool.py:398\u001b[0m, in \u001b[0;36mHTTPConnectionPool._make_request\u001b[0;34m(self, conn, method, url, timeout, chunked, **httplib_request_kw)\u001b[0m\n\u001b[1;32m    <a href='file:///Users/wenhao.lau/anaconda3/envs/dyson/lib/python3.8/site-packages/urllib3/connectionpool.py?line=395'>396</a>\u001b[0m         conn\u001b[39m.\u001b[39mrequest_chunked(method, url, \u001b[39m*\u001b[39m\u001b[39m*\u001b[39mhttplib_request_kw)\n\u001b[1;32m    <a href='file:///Users/wenhao.lau/anaconda3/envs/dyson/lib/python3.8/site-packages/urllib3/connectionpool.py?line=396'>397</a>\u001b[0m     \u001b[39melse\u001b[39;00m:\n\u001b[0;32m--> <a href='file:///Users/wenhao.lau/anaconda3/envs/dyson/lib/python3.8/site-packages/urllib3/connectionpool.py?line=397'>398</a>\u001b[0m         conn\u001b[39m.\u001b[39;49mrequest(method, url, \u001b[39m*\u001b[39;49m\u001b[39m*\u001b[39;49mhttplib_request_kw)\n\u001b[1;32m    <a href='file:///Users/wenhao.lau/anaconda3/envs/dyson/lib/python3.8/site-packages/urllib3/connectionpool.py?line=399'>400</a>\u001b[0m \u001b[39m# We are swallowing BrokenPipeError (errno.EPIPE) since the server is\u001b[39;00m\n\u001b[1;32m    <a href='file:///Users/wenhao.lau/anaconda3/envs/dyson/lib/python3.8/site-packages/urllib3/connectionpool.py?line=400'>401</a>\u001b[0m \u001b[39m# legitimately able to close the connection after sending a valid response.\u001b[39;00m\n\u001b[1;32m    <a href='file:///Users/wenhao.lau/anaconda3/envs/dyson/lib/python3.8/site-packages/urllib3/connectionpool.py?line=401'>402</a>\u001b[0m \u001b[39m# With this behaviour, the received response is still readable.\u001b[39;00m\n\u001b[1;32m    <a href='file:///Users/wenhao.lau/anaconda3/envs/dyson/lib/python3.8/site-packages/urllib3/connectionpool.py?line=402'>403</a>\u001b[0m \u001b[39mexcept\u001b[39;00m \u001b[39mBrokenPipeError\u001b[39;00m:\n\u001b[1;32m    <a href='file:///Users/wenhao.lau/anaconda3/envs/dyson/lib/python3.8/site-packages/urllib3/connectionpool.py?line=403'>404</a>\u001b[0m     \u001b[39m# Python 3\u001b[39;00m\n",
      "File \u001b[0;32m~/anaconda3/envs/dyson/lib/python3.8/site-packages/urllib3/connection.py:239\u001b[0m, in \u001b[0;36mHTTPConnection.request\u001b[0;34m(self, method, url, body, headers)\u001b[0m\n\u001b[1;32m    <a href='file:///Users/wenhao.lau/anaconda3/envs/dyson/lib/python3.8/site-packages/urllib3/connection.py?line=236'>237</a>\u001b[0m \u001b[39mif\u001b[39;00m \u001b[39m\"\u001b[39m\u001b[39muser-agent\u001b[39m\u001b[39m\"\u001b[39m \u001b[39mnot\u001b[39;00m \u001b[39min\u001b[39;00m (six\u001b[39m.\u001b[39mensure_str(k\u001b[39m.\u001b[39mlower()) \u001b[39mfor\u001b[39;00m k \u001b[39min\u001b[39;00m headers):\n\u001b[1;32m    <a href='file:///Users/wenhao.lau/anaconda3/envs/dyson/lib/python3.8/site-packages/urllib3/connection.py?line=237'>238</a>\u001b[0m     headers[\u001b[39m\"\u001b[39m\u001b[39mUser-Agent\u001b[39m\u001b[39m\"\u001b[39m] \u001b[39m=\u001b[39m _get_default_user_agent()\n\u001b[0;32m--> <a href='file:///Users/wenhao.lau/anaconda3/envs/dyson/lib/python3.8/site-packages/urllib3/connection.py?line=238'>239</a>\u001b[0m \u001b[39msuper\u001b[39;49m(HTTPConnection, \u001b[39mself\u001b[39;49m)\u001b[39m.\u001b[39;49mrequest(method, url, body\u001b[39m=\u001b[39;49mbody, headers\u001b[39m=\u001b[39;49mheaders)\n",
      "File \u001b[0;32m~/anaconda3/envs/dyson/lib/python3.8/http/client.py:1256\u001b[0m, in \u001b[0;36mHTTPConnection.request\u001b[0;34m(self, method, url, body, headers, encode_chunked)\u001b[0m\n\u001b[1;32m   <a href='file:///Users/wenhao.lau/anaconda3/envs/dyson/lib/python3.8/http/client.py?line=1252'>1253</a>\u001b[0m \u001b[39mdef\u001b[39;00m \u001b[39mrequest\u001b[39m(\u001b[39mself\u001b[39m, method, url, body\u001b[39m=\u001b[39m\u001b[39mNone\u001b[39;00m, headers\u001b[39m=\u001b[39m{}, \u001b[39m*\u001b[39m,\n\u001b[1;32m   <a href='file:///Users/wenhao.lau/anaconda3/envs/dyson/lib/python3.8/http/client.py?line=1253'>1254</a>\u001b[0m             encode_chunked\u001b[39m=\u001b[39m\u001b[39mFalse\u001b[39;00m):\n\u001b[1;32m   <a href='file:///Users/wenhao.lau/anaconda3/envs/dyson/lib/python3.8/http/client.py?line=1254'>1255</a>\u001b[0m     \u001b[39m\"\"\"Send a complete request to the server.\"\"\"\u001b[39;00m\n\u001b[0;32m-> <a href='file:///Users/wenhao.lau/anaconda3/envs/dyson/lib/python3.8/http/client.py?line=1255'>1256</a>\u001b[0m     \u001b[39mself\u001b[39;49m\u001b[39m.\u001b[39;49m_send_request(method, url, body, headers, encode_chunked)\n",
      "File \u001b[0;32m~/anaconda3/envs/dyson/lib/python3.8/http/client.py:1302\u001b[0m, in \u001b[0;36mHTTPConnection._send_request\u001b[0;34m(self, method, url, body, headers, encode_chunked)\u001b[0m\n\u001b[1;32m   <a href='file:///Users/wenhao.lau/anaconda3/envs/dyson/lib/python3.8/http/client.py?line=1297'>1298</a>\u001b[0m \u001b[39mif\u001b[39;00m \u001b[39misinstance\u001b[39m(body, \u001b[39mstr\u001b[39m):\n\u001b[1;32m   <a href='file:///Users/wenhao.lau/anaconda3/envs/dyson/lib/python3.8/http/client.py?line=1298'>1299</a>\u001b[0m     \u001b[39m# RFC 2616 Section 3.7.1 says that text default has a\u001b[39;00m\n\u001b[1;32m   <a href='file:///Users/wenhao.lau/anaconda3/envs/dyson/lib/python3.8/http/client.py?line=1299'>1300</a>\u001b[0m     \u001b[39m# default charset of iso-8859-1.\u001b[39;00m\n\u001b[1;32m   <a href='file:///Users/wenhao.lau/anaconda3/envs/dyson/lib/python3.8/http/client.py?line=1300'>1301</a>\u001b[0m     body \u001b[39m=\u001b[39m _encode(body, \u001b[39m'\u001b[39m\u001b[39mbody\u001b[39m\u001b[39m'\u001b[39m)\n\u001b[0;32m-> <a href='file:///Users/wenhao.lau/anaconda3/envs/dyson/lib/python3.8/http/client.py?line=1301'>1302</a>\u001b[0m \u001b[39mself\u001b[39;49m\u001b[39m.\u001b[39;49mendheaders(body, encode_chunked\u001b[39m=\u001b[39;49mencode_chunked)\n",
      "File \u001b[0;32m~/anaconda3/envs/dyson/lib/python3.8/http/client.py:1251\u001b[0m, in \u001b[0;36mHTTPConnection.endheaders\u001b[0;34m(self, message_body, encode_chunked)\u001b[0m\n\u001b[1;32m   <a href='file:///Users/wenhao.lau/anaconda3/envs/dyson/lib/python3.8/http/client.py?line=1248'>1249</a>\u001b[0m \u001b[39melse\u001b[39;00m:\n\u001b[1;32m   <a href='file:///Users/wenhao.lau/anaconda3/envs/dyson/lib/python3.8/http/client.py?line=1249'>1250</a>\u001b[0m     \u001b[39mraise\u001b[39;00m CannotSendHeader()\n\u001b[0;32m-> <a href='file:///Users/wenhao.lau/anaconda3/envs/dyson/lib/python3.8/http/client.py?line=1250'>1251</a>\u001b[0m \u001b[39mself\u001b[39;49m\u001b[39m.\u001b[39;49m_send_output(message_body, encode_chunked\u001b[39m=\u001b[39;49mencode_chunked)\n",
      "File \u001b[0;32m~/anaconda3/envs/dyson/lib/python3.8/http/client.py:1011\u001b[0m, in \u001b[0;36mHTTPConnection._send_output\u001b[0;34m(self, message_body, encode_chunked)\u001b[0m\n\u001b[1;32m   <a href='file:///Users/wenhao.lau/anaconda3/envs/dyson/lib/python3.8/http/client.py?line=1008'>1009</a>\u001b[0m msg \u001b[39m=\u001b[39m \u001b[39mb\u001b[39m\u001b[39m\"\u001b[39m\u001b[39m\\r\u001b[39;00m\u001b[39m\\n\u001b[39;00m\u001b[39m\"\u001b[39m\u001b[39m.\u001b[39mjoin(\u001b[39mself\u001b[39m\u001b[39m.\u001b[39m_buffer)\n\u001b[1;32m   <a href='file:///Users/wenhao.lau/anaconda3/envs/dyson/lib/python3.8/http/client.py?line=1009'>1010</a>\u001b[0m \u001b[39mdel\u001b[39;00m \u001b[39mself\u001b[39m\u001b[39m.\u001b[39m_buffer[:]\n\u001b[0;32m-> <a href='file:///Users/wenhao.lau/anaconda3/envs/dyson/lib/python3.8/http/client.py?line=1010'>1011</a>\u001b[0m \u001b[39mself\u001b[39;49m\u001b[39m.\u001b[39;49msend(msg)\n\u001b[1;32m   <a href='file:///Users/wenhao.lau/anaconda3/envs/dyson/lib/python3.8/http/client.py?line=1012'>1013</a>\u001b[0m \u001b[39mif\u001b[39;00m message_body \u001b[39mis\u001b[39;00m \u001b[39mnot\u001b[39;00m \u001b[39mNone\u001b[39;00m:\n\u001b[1;32m   <a href='file:///Users/wenhao.lau/anaconda3/envs/dyson/lib/python3.8/http/client.py?line=1013'>1014</a>\u001b[0m \n\u001b[1;32m   <a href='file:///Users/wenhao.lau/anaconda3/envs/dyson/lib/python3.8/http/client.py?line=1014'>1015</a>\u001b[0m     \u001b[39m# create a consistent interface to message_body\u001b[39;00m\n\u001b[1;32m   <a href='file:///Users/wenhao.lau/anaconda3/envs/dyson/lib/python3.8/http/client.py?line=1015'>1016</a>\u001b[0m     \u001b[39mif\u001b[39;00m \u001b[39mhasattr\u001b[39m(message_body, \u001b[39m'\u001b[39m\u001b[39mread\u001b[39m\u001b[39m'\u001b[39m):\n\u001b[1;32m   <a href='file:///Users/wenhao.lau/anaconda3/envs/dyson/lib/python3.8/http/client.py?line=1016'>1017</a>\u001b[0m         \u001b[39m# Let file-like take precedence over byte-like.  This\u001b[39;00m\n\u001b[1;32m   <a href='file:///Users/wenhao.lau/anaconda3/envs/dyson/lib/python3.8/http/client.py?line=1017'>1018</a>\u001b[0m         \u001b[39m# is needed to allow the current position of mmap'ed\u001b[39;00m\n\u001b[1;32m   <a href='file:///Users/wenhao.lau/anaconda3/envs/dyson/lib/python3.8/http/client.py?line=1018'>1019</a>\u001b[0m         \u001b[39m# files to be taken into account.\u001b[39;00m\n",
      "File \u001b[0;32m~/anaconda3/envs/dyson/lib/python3.8/http/client.py:951\u001b[0m, in \u001b[0;36mHTTPConnection.send\u001b[0;34m(self, data)\u001b[0m\n\u001b[1;32m    <a href='file:///Users/wenhao.lau/anaconda3/envs/dyson/lib/python3.8/http/client.py?line=948'>949</a>\u001b[0m \u001b[39mif\u001b[39;00m \u001b[39mself\u001b[39m\u001b[39m.\u001b[39msock \u001b[39mis\u001b[39;00m \u001b[39mNone\u001b[39;00m:\n\u001b[1;32m    <a href='file:///Users/wenhao.lau/anaconda3/envs/dyson/lib/python3.8/http/client.py?line=949'>950</a>\u001b[0m     \u001b[39mif\u001b[39;00m \u001b[39mself\u001b[39m\u001b[39m.\u001b[39mauto_open:\n\u001b[0;32m--> <a href='file:///Users/wenhao.lau/anaconda3/envs/dyson/lib/python3.8/http/client.py?line=950'>951</a>\u001b[0m         \u001b[39mself\u001b[39;49m\u001b[39m.\u001b[39;49mconnect()\n\u001b[1;32m    <a href='file:///Users/wenhao.lau/anaconda3/envs/dyson/lib/python3.8/http/client.py?line=951'>952</a>\u001b[0m     \u001b[39melse\u001b[39;00m:\n\u001b[1;32m    <a href='file:///Users/wenhao.lau/anaconda3/envs/dyson/lib/python3.8/http/client.py?line=952'>953</a>\u001b[0m         \u001b[39mraise\u001b[39;00m NotConnected()\n",
      "File \u001b[0;32m~/anaconda3/envs/dyson/lib/python3.8/site-packages/urllib3/connection.py:205\u001b[0m, in \u001b[0;36mHTTPConnection.connect\u001b[0;34m(self)\u001b[0m\n\u001b[1;32m    <a href='file:///Users/wenhao.lau/anaconda3/envs/dyson/lib/python3.8/site-packages/urllib3/connection.py?line=203'>204</a>\u001b[0m \u001b[39mdef\u001b[39;00m \u001b[39mconnect\u001b[39m(\u001b[39mself\u001b[39m):\n\u001b[0;32m--> <a href='file:///Users/wenhao.lau/anaconda3/envs/dyson/lib/python3.8/site-packages/urllib3/connection.py?line=204'>205</a>\u001b[0m     conn \u001b[39m=\u001b[39m \u001b[39mself\u001b[39;49m\u001b[39m.\u001b[39;49m_new_conn()\n\u001b[1;32m    <a href='file:///Users/wenhao.lau/anaconda3/envs/dyson/lib/python3.8/site-packages/urllib3/connection.py?line=205'>206</a>\u001b[0m     \u001b[39mself\u001b[39m\u001b[39m.\u001b[39m_prepare_conn(conn)\n",
      "File \u001b[0;32m~/anaconda3/envs/dyson/lib/python3.8/site-packages/urllib3/connection.py:174\u001b[0m, in \u001b[0;36mHTTPConnection._new_conn\u001b[0;34m(self)\u001b[0m\n\u001b[1;32m    <a href='file:///Users/wenhao.lau/anaconda3/envs/dyson/lib/python3.8/site-packages/urllib3/connection.py?line=170'>171</a>\u001b[0m     extra_kw[\u001b[39m\"\u001b[39m\u001b[39msocket_options\u001b[39m\u001b[39m\"\u001b[39m] \u001b[39m=\u001b[39m \u001b[39mself\u001b[39m\u001b[39m.\u001b[39msocket_options\n\u001b[1;32m    <a href='file:///Users/wenhao.lau/anaconda3/envs/dyson/lib/python3.8/site-packages/urllib3/connection.py?line=172'>173</a>\u001b[0m \u001b[39mtry\u001b[39;00m:\n\u001b[0;32m--> <a href='file:///Users/wenhao.lau/anaconda3/envs/dyson/lib/python3.8/site-packages/urllib3/connection.py?line=173'>174</a>\u001b[0m     conn \u001b[39m=\u001b[39m connection\u001b[39m.\u001b[39;49mcreate_connection(\n\u001b[1;32m    <a href='file:///Users/wenhao.lau/anaconda3/envs/dyson/lib/python3.8/site-packages/urllib3/connection.py?line=174'>175</a>\u001b[0m         (\u001b[39mself\u001b[39;49m\u001b[39m.\u001b[39;49m_dns_host, \u001b[39mself\u001b[39;49m\u001b[39m.\u001b[39;49mport), \u001b[39mself\u001b[39;49m\u001b[39m.\u001b[39;49mtimeout, \u001b[39m*\u001b[39;49m\u001b[39m*\u001b[39;49mextra_kw\n\u001b[1;32m    <a href='file:///Users/wenhao.lau/anaconda3/envs/dyson/lib/python3.8/site-packages/urllib3/connection.py?line=175'>176</a>\u001b[0m     )\n\u001b[1;32m    <a href='file:///Users/wenhao.lau/anaconda3/envs/dyson/lib/python3.8/site-packages/urllib3/connection.py?line=177'>178</a>\u001b[0m \u001b[39mexcept\u001b[39;00m SocketTimeout:\n\u001b[1;32m    <a href='file:///Users/wenhao.lau/anaconda3/envs/dyson/lib/python3.8/site-packages/urllib3/connection.py?line=178'>179</a>\u001b[0m     \u001b[39mraise\u001b[39;00m ConnectTimeoutError(\n\u001b[1;32m    <a href='file:///Users/wenhao.lau/anaconda3/envs/dyson/lib/python3.8/site-packages/urllib3/connection.py?line=179'>180</a>\u001b[0m         \u001b[39mself\u001b[39m,\n\u001b[1;32m    <a href='file:///Users/wenhao.lau/anaconda3/envs/dyson/lib/python3.8/site-packages/urllib3/connection.py?line=180'>181</a>\u001b[0m         \u001b[39m\"\u001b[39m\u001b[39mConnection to \u001b[39m\u001b[39m%s\u001b[39;00m\u001b[39m timed out. (connect timeout=\u001b[39m\u001b[39m%s\u001b[39;00m\u001b[39m)\u001b[39m\u001b[39m\"\u001b[39m\n\u001b[1;32m    <a href='file:///Users/wenhao.lau/anaconda3/envs/dyson/lib/python3.8/site-packages/urllib3/connection.py?line=181'>182</a>\u001b[0m         \u001b[39m%\u001b[39m (\u001b[39mself\u001b[39m\u001b[39m.\u001b[39mhost, \u001b[39mself\u001b[39m\u001b[39m.\u001b[39mtimeout),\n\u001b[1;32m    <a href='file:///Users/wenhao.lau/anaconda3/envs/dyson/lib/python3.8/site-packages/urllib3/connection.py?line=182'>183</a>\u001b[0m     )\n",
      "File \u001b[0;32m~/anaconda3/envs/dyson/lib/python3.8/site-packages/urllib3/util/connection.py:91\u001b[0m, in \u001b[0;36mcreate_connection\u001b[0;34m(address, timeout, source_address, socket_options)\u001b[0m\n\u001b[1;32m     <a href='file:///Users/wenhao.lau/anaconda3/envs/dyson/lib/python3.8/site-packages/urllib3/util/connection.py?line=88'>89</a>\u001b[0m         err \u001b[39m=\u001b[39m e\n\u001b[1;32m     <a href='file:///Users/wenhao.lau/anaconda3/envs/dyson/lib/python3.8/site-packages/urllib3/util/connection.py?line=89'>90</a>\u001b[0m         \u001b[39mif\u001b[39;00m sock \u001b[39mis\u001b[39;00m \u001b[39mnot\u001b[39;00m \u001b[39mNone\u001b[39;00m:\n\u001b[0;32m---> <a href='file:///Users/wenhao.lau/anaconda3/envs/dyson/lib/python3.8/site-packages/urllib3/util/connection.py?line=90'>91</a>\u001b[0m             sock\u001b[39m.\u001b[39;49mclose()\n\u001b[1;32m     <a href='file:///Users/wenhao.lau/anaconda3/envs/dyson/lib/python3.8/site-packages/urllib3/util/connection.py?line=91'>92</a>\u001b[0m             sock \u001b[39m=\u001b[39m \u001b[39mNone\u001b[39;00m\n\u001b[1;32m     <a href='file:///Users/wenhao.lau/anaconda3/envs/dyson/lib/python3.8/site-packages/urllib3/util/connection.py?line=93'>94</a>\u001b[0m \u001b[39mif\u001b[39;00m err \u001b[39mis\u001b[39;00m \u001b[39mnot\u001b[39;00m \u001b[39mNone\u001b[39;00m:\n",
      "File \u001b[0;32m~/anaconda3/envs/dyson/lib/python3.8/socket.py:500\u001b[0m, in \u001b[0;36msocket.close\u001b[0;34m(self)\u001b[0m\n\u001b[1;32m    <a href='file:///Users/wenhao.lau/anaconda3/envs/dyson/lib/python3.8/socket.py?line=497'>498</a>\u001b[0m \u001b[39mself\u001b[39m\u001b[39m.\u001b[39m_closed \u001b[39m=\u001b[39m \u001b[39mTrue\u001b[39;00m\n\u001b[1;32m    <a href='file:///Users/wenhao.lau/anaconda3/envs/dyson/lib/python3.8/socket.py?line=498'>499</a>\u001b[0m \u001b[39mif\u001b[39;00m \u001b[39mself\u001b[39m\u001b[39m.\u001b[39m_io_refs \u001b[39m<\u001b[39m\u001b[39m=\u001b[39m \u001b[39m0\u001b[39m:\n\u001b[0;32m--> <a href='file:///Users/wenhao.lau/anaconda3/envs/dyson/lib/python3.8/socket.py?line=499'>500</a>\u001b[0m     \u001b[39mself\u001b[39;49m\u001b[39m.\u001b[39;49m_real_close()\n",
      "File \u001b[0;32m~/anaconda3/envs/dyson/lib/python3.8/socket.py:494\u001b[0m, in \u001b[0;36msocket._real_close\u001b[0;34m(self, _ss)\u001b[0m\n\u001b[1;32m    <a href='file:///Users/wenhao.lau/anaconda3/envs/dyson/lib/python3.8/socket.py?line=491'>492</a>\u001b[0m \u001b[39mdef\u001b[39;00m \u001b[39m_real_close\u001b[39m(\u001b[39mself\u001b[39m, _ss\u001b[39m=\u001b[39m_socket\u001b[39m.\u001b[39msocket):\n\u001b[1;32m    <a href='file:///Users/wenhao.lau/anaconda3/envs/dyson/lib/python3.8/socket.py?line=492'>493</a>\u001b[0m     \u001b[39m# This function should not reference any globals. See issue #808164.\u001b[39;00m\n\u001b[0;32m--> <a href='file:///Users/wenhao.lau/anaconda3/envs/dyson/lib/python3.8/socket.py?line=493'>494</a>\u001b[0m     _ss\u001b[39m.\u001b[39;49mclose(\u001b[39mself\u001b[39;49m)\n",
      "\u001b[0;31mKeyboardInterrupt\u001b[0m: "
     ]
    }
   ],
   "source": [
    "mlflow.set_tracking_uri('http://0.0.0.0:5000')\n",
    "mlflow.set_experiment('airbnb-predict-price')"
   ]
  },
  {
   "cell_type": "markdown",
   "metadata": {},
   "source": [
    "# Fit Model and Log to MLflow"
   ]
  },
  {
   "cell_type": "code",
   "execution_count": null,
   "metadata": {},
   "outputs": [],
   "source": [
    "with mlflow.start_run() as run:\n",
    "    reg=LinearRegression()\n",
    "    reg.fit(x_train,y_train)\n",
    "    y_pred=reg.predict(x_test)\n",
    "    \n",
    "    from sklearn.metrics import r2_score\n",
    "    r2 = r2_score(y_test,y_pred)\n",
    "\n",
    "    mlflow.log_metric(\"r2\", r2)\n",
    "    mlflow.sklearn.log_model(reg, \"model\")"
   ]
  },
  {
   "cell_type": "markdown",
   "metadata": {},
   "source": [
    "# Registering the Model"
   ]
  },
  {
   "cell_type": "code",
   "execution_count": null,
   "metadata": {},
   "outputs": [],
   "source": [
    "result = mlflow.register_model(\n",
    "    f\"runs:/{run.info.run_id}/model\",\n",
    "    \"sklearn-linear-regression-model\"\n",
    ")"
   ]
  },
  {
   "cell_type": "markdown",
   "metadata": {},
   "source": [
    "# Serving Model"
   ]
  },
  {
   "cell_type": "code",
   "execution_count": null,
   "metadata": {},
   "outputs": [],
   "source": [
    "%%bash -s \"$run.info.run_id\"\n",
    "PWD=$(pwd)\n",
    "# docker run -d --rm -v ${PWD}/minio/data/mlflow:/data --entrypoint \"mlflow models serve -m data/1/{run.info.run_id}/model -h 0.0.0.0 -p 3000\" dyson-test_mlflow:latest\n",
    "# docker run -d --rm -v ${PWD}/minio/data/mlflow:/data --expose 3000 --entrypoint \"mlflow models serve -m /data/1/f646bc1db3d745b482abf218157df747/artifacts/model -h 0.0.0.0 -p 3000\" dyson-test_mlflow:latest\n",
    "docker run -d --rm -v ${PWD}/minio/data/mlflow:/data -p 3000:3000 -e MLFLOW_RUN_ID=${1} --name mlflow-serving --entrypoint \"./serve_entrypoint.sh\" dyson-test_mlflow:latest\n",
    "# docker run -it --rm -v ${PWD}/minio/data/mlflow:/data --expose 3000 --entrypoint \"bash\" dyson-test_mlflow:latest"
   ]
  },
  {
   "cell_type": "markdown",
   "metadata": {},
   "source": [
    "# Send Request to Model Server"
   ]
  },
  {
   "cell_type": "code",
   "execution_count": null,
   "metadata": {},
   "outputs": [],
   "source": [
    "data = {\n",
    "    \"columns\": [\n",
    "        \"host_id\",\n",
    "        \"neighborhood_group\",\n",
    "        \"latitude\",\n",
    "        \"longitude\",\n",
    "        \"room_type\"\n",
    "    ],\n",
    "    \"data\": [\n",
    "        [8072802, 0, 40.71790, -73.95103, 0]\n",
    "    ]\n",
    "}\n",
    "r = requests.post(\"http://0.0.0.0:3000/invocations\", data=json.dumps(data), headers={\"Content-Type\": \"application/json\"})\n",
    "print(r.status_code)\n",
    "print(json.loads(r.text))\n"
   ]
  },
  {
   "cell_type": "code",
   "execution_count": null,
   "metadata": {},
   "outputs": [],
   "source": []
  }
 ],
 "metadata": {
  "interpreter": {
   "hash": "caf854aa578113a8ca99dd0fb927b6f344a535b08cf50d253a4407c0d9405682"
  },
  "kernelspec": {
   "display_name": "Python 3.8.12 ('dyson')",
   "language": "python",
   "name": "python3"
  },
  "language_info": {
   "codemirror_mode": {
    "name": "ipython",
    "version": 3
   },
   "file_extension": ".py",
   "mimetype": "text/x-python",
   "name": "python",
   "nbconvert_exporter": "python",
   "pygments_lexer": "ipython3",
   "version": "3.8.12"
  },
  "orig_nbformat": 4
 },
 "nbformat": 4,
 "nbformat_minor": 2
}
